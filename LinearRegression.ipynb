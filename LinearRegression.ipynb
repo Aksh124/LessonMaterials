{
  "nbformat": 4,
  "nbformat_minor": 0,
  "metadata": {
    "kernelspec": {
      "display_name": "Python 3",
      "language": "python",
      "name": "python3"
    },
    "language_info": {
      "codemirror_mode": {
        "name": "ipython",
        "version": 3
      },
      "file_extension": ".py",
      "mimetype": "text/x-python",
      "name": "python",
      "nbconvert_exporter": "python",
      "pygments_lexer": "ipython3",
      "version": "3.4.5"
    },
    "colab": {
      "name": "LinearRegression.ipynb",
      "provenance": []
    }
  },
  "cells": [
    {
      "cell_type": "markdown",
      "metadata": {
        "id": "b2BUOcQ15hIS",
        "colab_type": "text"
      },
      "source": [
        "# Linear Regression\n",
        "### Introduction\n",
        "- What is linear regression and what do we use it for? \n",
        "- How do we create linear regression models?\n",
        "\n",
        "### Cost Function\n",
        "### Gradient Descent\n",
        "- goals with gradient descent\n",
        "- learning rate\n",
        "### Basic example\n",
        "- "
      ]
    },
    {
      "cell_type": "markdown",
      "metadata": {
        "id": "SDDf5uu35hIU",
        "colab_type": "text"
      },
      "source": [
        "## Linear Regression Introduction"
      ]
    },
    {
      "cell_type": "markdown",
      "metadata": {
        "id": "lH1rrn2X5hIY",
        "colab_type": "text"
      },
      "source": [
        "Linear regression is a method of using supervised learning to determine a linear relationship between the independent (x) variables and the dependent (y) variable. Linear regression follows the basic simple steps: \n",
        "\n",
        "1. Plot the dependent variable against the independent variable\n",
        "2. Plot a straight line and measure correlation\n",
        "3. Find the errors between the actual data points and their supposed location on the line, and proceed to change the line's direction to minimize the total error\n",
        "4. Repeat step 3 until it reaches the best possible correlation with the data\n",
        "\n",
        "There are two main methods of linear regression: Gradient Descent and the Cost Function. Each has its own advantages, listed below.\n",
        "\n",
        "Gradient Descent\n",
        "- works better for larger datasets (>10000 examples)\n",
        "\n",
        "Cost function\n",
        "- simpler to integrate\n",
        "- faster to converge\n",
        "\n"
      ]
    },
    {
      "cell_type": "code",
      "metadata": {
        "id": "AtZGk-qBCch-",
        "colab_type": "code",
        "colab": {}
      },
      "source": [
        ""
      ],
      "execution_count": null,
      "outputs": []
    },
    {
      "cell_type": "code",
      "metadata": {
        "id": "83Gyu8eSCcc7",
        "colab_type": "code",
        "colab": {}
      },
      "source": [
        ""
      ],
      "execution_count": null,
      "outputs": []
    },
    {
      "cell_type": "markdown",
      "metadata": {
        "id": "yIt8HIhV5hIa",
        "colab_type": "text"
      },
      "source": [
        "### Gradient Descent"
      ]
    },
    {
      "cell_type": "markdown",
      "metadata": {
        "id": "RwU77rWg5hIb",
        "colab_type": "text"
      },
      "source": [
        "Gradient descent allows you to graph your hypothesis function based on its two pareameters. you don't graph the actual x and y of the function, but rather the parameter range of the hypothesis function and error resulting for selecting a particular set of perameters. The image below demonstrates how your computer views gradient descent. \n",
        "\n",
        "Your goal with gradient descent is to get your function to the very bottom of the pits of your graph, where the error value is at the minimum. To do so, you take the derivative of your cost function; the slope of the tangent here is the derivative and shows you the direction to move towards. We make steps down the cost function in the direction with the steepest descent. The size of each step is determined by another parameter, the learning rate.\n",
        "\n",
        "NOTE: You don't have to know calculus to understand this; the conventional function already incorporates calculus and will work fine. \n",
        "\n",
        "Your learning rate determines the size of the \"step\" you take while going down towards the pits of the graph. If you choose too small a learning rate, your function will take a long time to converge. However, if you choose too big a learning rate, your function could backfire and accidentally increase your function too far. \n",
        "\n",
        "The gradient descent algorithm is: \n",
        "\n",
        "NOTE: FIGURE OUT HOW TO INSERT SUPERSCRIPTS AND STUFF"
      ]
    },
    {
      "cell_type": "markdown",
      "metadata": {
        "id": "bqVtIxpB-vdv",
        "colab_type": "text"
      },
      "source": [
        ""
      ]
    },
    {
      "cell_type": "markdown",
      "metadata": {
        "id": "jJe-0Rqf5hIg",
        "colab_type": "text"
      },
      "source": [
        "## Cost Function"
      ]
    },
    {
      "cell_type": "markdown",
      "metadata": {
        "id": "V9o5jvHg5hIi",
        "colab_type": "text"
      },
      "source": [
        "The cost function takes an average difference (actually a fancier version of an average) of all the results of the hypothesis with inputs from x's and the actual output y's. This measures the accuracy of our hypothesis function and allows the model to make corresponding improements. \n",
        "\n",
        "The cost function outputs the total average error using this data, and therefore the ideal result is 0. Our goal should be to minimize the cost function adn get it as close to 0 as possible. \n",
        "\n"
      ]
    },
    {
      "cell_type": "markdown",
      "metadata": {
        "id": "96p82qXc5hIj",
        "colab_type": "text"
      },
      "source": [
        "**Supervised Learning** occurs when your deep learning model learns \n",
        "\n",
        "*   List item\n",
        "*   List item\n",
        "\n",
        "and makes inferences from data that has already been *labeled*.\n",
        "\n",
        "**Unsupervised Learning** occurs when the model learns and makes inferences from *unlabeled* data. "
      ]
    },
    {
      "cell_type": "markdown",
      "metadata": {
        "id": "chxMjLNZ5hIk",
        "colab_type": "text"
      },
      "source": [
        "**Labeled vs. Unlabeled example**\n",
        "\n",
        "- Classify images of cats and dogs"
      ]
    },
    {
      "cell_type": "markdown",
      "metadata": {
        "id": "xwWXR0dBCDN3",
        "colab_type": "text"
      },
      "source": [
        ""
      ]
    },
    {
      "cell_type": "markdown",
      "metadata": {
        "id": "pd-dhbiY5hIl",
        "colab_type": "text"
      },
      "source": [
        "### Basic example of linear regression"
      ]
    },
    {
      "cell_type": "markdown",
      "metadata": {
        "id": "xBI0IR_W5hIm",
        "colab_type": "text"
      },
      "source": [
        "Artificial neural networks are deep learning models that are based on the structure of the brain's neural networks. \n",
        "\n",
        "- Artificial neural networks are used interchangeably with the terms\n",
        "  - neural net\n",
        "  - net\n",
        "  - model"
      ]
    }
  ]
}